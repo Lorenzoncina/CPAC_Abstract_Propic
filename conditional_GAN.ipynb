{
  "cells": [
    {
      "cell_type": "code",
      "source": [
        "import tensorflow as tf\n",
        "from numpy import expand_dims\n",
        "from numpy import zeros\n",
        "from numpy import ones\n",
        "from numpy.random import randn\n",
        "from numpy.random import randint\n",
        "from keras.datasets.fashion_mnist import load_data\n",
        "from keras.optimizers import Adam\n",
        "from keras.models import Model\n",
        "from keras.layers import Input\n",
        "from keras.layers import Dense\n",
        "from keras.layers import Reshape\n",
        "from keras.layers import Flatten, MaxPooling2D\n",
        "from keras.layers import Conv2D\n",
        "from keras.layers import Conv2DTranspose, UpSampling2D\n",
        "from keras.layers import LeakyReLU, ReLU\n",
        "from keras.layers import Dropout\n",
        "from keras.layers import Embedding\n",
        "from keras.layers import Concatenate\n",
        "import numpy as np\n",
        "from tqdm import tqdm\n",
        "from PIL import Image, ImageOps\n",
        "import os\n",
        "import time\n",
        "import matplotlib.pyplot as plt\n",
        "import cv2"
      ],
      "outputs": [
        {
          "output_type": "stream",
          "name": "stderr",
          "text": [
            "Using TensorFlow backend.\n"
          ]
        }
      ],
      "execution_count": 1,
      "metadata": {
        "gather": {
          "logged": 1620482509527
        }
      }
    },
    {
      "cell_type": "code",
      "source": [
        "DATA_PATH = '/mnt/batch/tasks/shared/LS_root/mounts/clusters/cpacganfirstattempt/code/Users/10539060'\n",
        "image_size = 256\n",
        "\n",
        "# insert images as np.array\n",
        "training_images_path = '/mnt/batch/tasks/shared/LS_root/mounts/clusters/cpacganfirstattempt/code/Users/10539060/images_256_256_MD.npy'\n",
        "\n",
        "# insert classes as np.array Users/10539060/images_256_256_MD.npy\n",
        "training_labels_path = '/mnt/batch/tasks/shared/LS_root/mounts/clusters/cpacganfirstattempt/code/Users/10539060/labels_256_256_MD.npy'"
      ],
      "outputs": [
        {
          "output_type": "stream",
          "name": "stdout",
          "text": [
            "/mnt/batch/tasks/shared/LS_root/mounts/clusters/cpacganfirstattempt/code/Users/10539060\n"
          ]
        }
      ],
      "execution_count": 2,
      "metadata": {
        "collapsed": true,
        "jupyter": {
          "source_hidden": false,
          "outputs_hidden": false
        },
        "nteract": {
          "transient": {
            "deleting": false
          }
        },
        "gather": {
          "logged": 1620482509881
        }
      }
    },
    {
      "cell_type": "code",
      "source": [
        "# define the standalone discriminator model\n",
        "def define_discriminator(in_shape=(256,256,3), n_classes=4):\n",
        "        # label input\n",
        "        in_label = Input(shape=(1,))\n",
        "        # embedding for categorical input\n",
        "        li = Embedding(n_classes, 35)(in_label)\n",
        "        # scale up to image dimensions with linear activation\n",
        "        n_nodes = in_shape[0] * in_shape[1]\n",
        "        li = Dense(n_nodes)(li)\n",
        "        # reshape to additional channel\n",
        "        li = Reshape((in_shape[0], in_shape[1], 1))(li)\n",
        "        # image input\n",
        "        in_image = Input(shape=in_shape)\n",
        "        # concat label as a channel\n",
        "        merge = Concatenate()([in_image, li])\n",
        "        fe = Conv2D(256, (3,3), strides=(2,2), padding='same')(merge)\n",
        "        fe = LeakyReLU(alpha=0.2)(fe) \n",
        "        # downsample\n",
        "        fe = Conv2D(512, (3,3), strides=(2,2), padding='same')(fe)\n",
        "        fe = LeakyReLU(alpha=0.2)(fe)\n",
        "        # flatten feature maps\n",
        "        fe = Flatten()(fe)\n",
        "        # dropout\n",
        "        fe = Dropout(0.4)(fe)\n",
        "        # output\n",
        "        out_layer = Dense(1, activation='sigmoid')(fe)\n",
        "        # define model\n",
        "        model = Model([in_image, in_label], out_layer)\n",
        "        # compile model\n",
        "        opt = Adam(lr=0.0002, beta_1=0.5) \n",
        "        model.summary()\n",
        "        model.compile(loss='binary_crossentropy', optimizer=opt, metrics=['accuracy'])\n",
        "        return model\n",
        "\n",
        "# define the standalone generator model\n",
        "def define_generator(latent_dim, size, n_classes=4):\n",
        "    # label input\n",
        "        in_label = Input(shape=(1,))\n",
        "        # embedding for categorical input\n",
        "        li = Embedding(n_classes, 35)(in_label)\n",
        "        # linear multiplication\n",
        "        n_nodes = int(size/4) * int(size/4)\n",
        "        li = Dense(n_nodes)(li)\n",
        "        # reshape to additional channel\n",
        "        li = Reshape((int(size/4), int(size/4), 1))(li)\n",
        "        # image generator input\n",
        "        in_lat = Input(shape=(latent_dim,))\n",
        "        # foundation\n",
        "        n_nodes = 128 * int(size/4) * int(size/4)\n",
        "        gen = Dense(n_nodes)(in_lat)\n",
        "        gen = LeakyReLU(alpha=0.2)(gen)\n",
        "        gen = Reshape((int(size/4), int(size/4), 128))(gen)\n",
        "        # merge image gen and label input\n",
        "        merge = Concatenate()([gen, li])\n",
        "        # first upsample\n",
        "        gen = Conv2D(512, (3,3), padding='same')(merge)  \n",
        "        gen = LeakyReLU(alpha=0.3)(gen)\n",
        "        gen = UpSampling2D()(gen)\n",
        "        # second upsample\n",
        "        gen = Conv2D(256, (3,3), padding='same')(gen) \n",
        "        gen = LeakyReLU(alpha=0.3)(gen)\n",
        "        gen = UpSampling2D()(gen)\n",
        "        # output\n",
        "        out_layer = Conv2D(3, (7,7), activation='tanh', padding='same')(gen)\n",
        "        # define model\n",
        "        model = Model([in_lat, in_label], out_layer)\n",
        "        model.summary()\n",
        "        return model\n",
        "\n",
        "# define the combined generator and discriminator model, for updating the generator\n",
        "def define_gan(g_model, d_model):\n",
        "\t# make weights in the discriminator not trainable\n",
        "\td_model.trainable = False\n",
        "\t# get noise and label inputs from generator model\n",
        "\tgen_noise, gen_label= g_model.input\n",
        "\t# get image output from the generator model\n",
        "\tgen_output = g_model.output\n",
        "\t# connect image output and label input from generator as inputs to discriminator\n",
        "\tgan_output = d_model([gen_output, gen_label])\n",
        "\t# define gan model as taking noise and label and outputting a classification\n",
        "\tmodel = Model([gen_noise, gen_label], gan_output)\n",
        "\t# compile model\n",
        "\topt = Adam(lr=0.0002, beta_1=0.5)\n",
        "\tmodel.compile(loss='binary_crossentropy', optimizer=opt)\n",
        "\treturn model"
      ],
      "outputs": [],
      "execution_count": 3,
      "metadata": {
        "collapsed": true,
        "jupyter": {
          "source_hidden": false,
          "outputs_hidden": false
        },
        "nteract": {
          "transient": {
            "deleting": false
          }
        },
        "gather": {
          "logged": 1620482509967
        }
      }
    },
    {
      "cell_type": "code",
      "source": [
        "def load_real_samples():\n",
        "  trainX = np.load(training_images_path, allow_pickle = True)\n",
        "  trainy = np.load(training_labels_path, allow_pickle = True)\n",
        "  #Adding noise to input data\n",
        "  X = trainX.astype('float32')\n",
        "  X = (X - 127.5) / 127.5 + np.random.normal(0, 0.01, (trainX.shape[0],trainX.shape[1],trainX.shape[2],trainX.shape[3]))\n",
        "  #From str labels to integers\n",
        "  for i in range(len(trainy)):\n",
        "    if trainy[i] == 'Happy':\n",
        "      trainy[i] = np.int(0)\n",
        "    if trainy[i] == 'Angry':\n",
        "      trainy[i] = np.int(1)\n",
        "    if trainy[i] == 'Sad':\n",
        "      trainy[i] = np.int(2)\n",
        "    if trainy[i] == 'Relaxed':\n",
        "      trainy[i] = np.int(3)\n",
        "  trainy = trainy.astype('float32')\n",
        "  return[X, trainy]"
      ],
      "outputs": [],
      "execution_count": 4,
      "metadata": {
        "collapsed": true,
        "jupyter": {
          "source_hidden": false,
          "outputs_hidden": false
        },
        "nteract": {
          "transient": {
            "deleting": false
          }
        },
        "gather": {
          "logged": 1620482510152
        }
      }
    },
    {
      "cell_type": "code",
      "source": [
        "# # select real samples\n",
        "def generate_real_samples(dataset, n_samples):\n",
        "  # split into images and labels\n",
        "  images, labels = dataset\n",
        "  # choose random instances\n",
        "  ix = randint(0, images.shape[0], n_samples)\n",
        "  # select images and labels\n",
        "  X, labels = images[ix], labels[ix]\n",
        "  # generate class labels\n",
        "  y = ones((n_samples, 1))\n",
        "  # labels switching\n",
        "  for i in range(int(n_samples/3)):\n",
        "    y[3*i] = 0 \n",
        "  return [X, labels], y"
      ],
      "outputs": [],
      "execution_count": 5,
      "metadata": {
        "collapsed": true,
        "jupyter": {
          "source_hidden": false,
          "outputs_hidden": false
        },
        "nteract": {
          "transient": {
            "deleting": false
          }
        },
        "gather": {
          "logged": 1620482510467
        }
      }
    },
    {
      "cell_type": "code",
      "source": [
        "# generate points in latent space as input for the generator\n",
        "def generate_latent_points(latent_dim, n_samples, n_classes=4):\n",
        "\t# generate points in the latent space\n",
        "\tx_input = randn(latent_dim * n_samples)\n",
        "\t# reshape into a batch of inputs for the network\n",
        "\tz_input = x_input.reshape(n_samples, latent_dim)\n",
        "\t# generate labels\n",
        "\tlabels = randint(0, n_classes, n_samples)\n",
        "\treturn [z_input, labels]"
      ],
      "outputs": [],
      "execution_count": 6,
      "metadata": {
        "collapsed": true,
        "jupyter": {
          "source_hidden": false,
          "outputs_hidden": false
        },
        "nteract": {
          "transient": {
            "deleting": false
          }
        },
        "gather": {
          "logged": 1620482510560
        }
      }
    },
    {
      "cell_type": "code",
      "source": [
        "# use the generator to generate n fake examples, with class labels\n",
        "def generate_fake_samples(generator, latent_dim, n_samples):\n",
        "  # generate points in latent space\n",
        "  z_input, labels_input = generate_latent_points(latent_dim, n_samples)\n",
        "  # predict outputs\n",
        "  images = generator.predict([z_input, labels_input])\n",
        "  # create class labels\n",
        "  y = zeros((n_samples, 1))\n",
        "  #labels switching\n",
        "  for i in range(int(n_samples/3)):\n",
        "    y[3*i] = 1\n",
        "  return [images, labels_input], y"
      ],
      "outputs": [],
      "execution_count": 7,
      "metadata": {
        "collapsed": true,
        "jupyter": {
          "source_hidden": false,
          "outputs_hidden": false
        },
        "nteract": {
          "transient": {
            "deleting": false
          }
        },
        "gather": {
          "logged": 1620482510645
        }
      }
    },
    {
      "cell_type": "code",
      "source": [
        "# train the generator and discriminator\n",
        "def train(g_model, d_model, gan_model, dataset, latent_dim, n_epochs=25, n_batch=16): #batch era 128\n",
        "  bat_per_epo = int(dataset[0].shape[0] / n_batch)\n",
        "  half_batch = int(n_batch / 2)\n",
        "  # manually enumerate epochs\n",
        "  for i in range(n_epochs):\n",
        "    # enumerate batches over the training set\n",
        "    for j in range(bat_per_epo):\n",
        "      # get randomly selected 'real' samples\n",
        "      [X_real, labels_real], y_real = generate_real_samples(dataset, half_batch)\n",
        "      # update discriminator model weights\n",
        "      d_loss1, _ = d_model.train_on_batch([X_real, labels_real], y_real)\n",
        "      # generate 'fake' examples\n",
        "      [X_fake, labels], y_fake = generate_fake_samples(g_model, latent_dim, half_batch)\n",
        "      # update discriminator model weights\n",
        "      d_loss2, _ = d_model.train_on_batch([X_fake, labels], y_fake)\n",
        "      # prepare points in latent space as input for the generator\n",
        "      [z_input, labels_input] = generate_latent_points(latent_dim, n_batch)\n",
        "      # create inverted labels for the fake samples\n",
        "      y_gan = ones((n_batch, 1))\n",
        "      # update the generator via the discriminator's error\n",
        "      g_loss = gan_model.train_on_batch([z_input, labels_input], y_gan)\n",
        "      # summarize loss on this batch\n",
        "      print('>%d, %d/%d, d1=%.3f, d2=%.3f g=%.3f' %\n",
        "        (i+1, j+1, bat_per_epo, d_loss1, d_loss2, g_loss))"
      ],
      "outputs": [],
      "execution_count": 8,
      "metadata": {
        "collapsed": true,
        "jupyter": {
          "source_hidden": false,
          "outputs_hidden": false
        },
        "nteract": {
          "transient": {
            "deleting": false
          }
        },
        "gather": {
          "logged": 1620482510740
        }
      }
    },
    {
      "cell_type": "code",
      "source": [
        "# size of the latent space\n",
        "latent_dim = 16\n",
        "# create the discriminator\n",
        "d_model = define_discriminator()\n",
        "# create the generator\n",
        "g_model = define_generator(latent_dim, image_size)\n",
        "# create the gan\n",
        "gan_model = define_gan(g_model, d_model)\n",
        "# load image data\n",
        "dataset = load_real_samples()"
      ],
      "outputs": [
        {
          "output_type": "stream",
          "name": "stdout",
          "text": [
            "Model: \"model_1\"\n",
            "__________________________________________________________________________________________________\n",
            "Layer (type)                    Output Shape         Param #     Connected to                     \n",
            "==================================================================================================\n",
            "input_1 (InputLayer)            (None, 1)            0                                            \n",
            "__________________________________________________________________________________________________\n",
            "embedding_1 (Embedding)         (None, 1, 35)        140         input_1[0][0]                    \n",
            "__________________________________________________________________________________________________\n",
            "dense_1 (Dense)                 (None, 1, 65536)     2359296     embedding_1[0][0]                \n",
            "__________________________________________________________________________________________________\n",
            "input_2 (InputLayer)            (None, 256, 256, 3)  0                                            \n",
            "__________________________________________________________________________________________________\n",
            "reshape_1 (Reshape)             (None, 256, 256, 1)  0           dense_1[0][0]                    \n",
            "__________________________________________________________________________________________________\n",
            "concatenate_1 (Concatenate)     (None, 256, 256, 4)  0           input_2[0][0]                    \n",
            "                                                                 reshape_1[0][0]                  \n",
            "__________________________________________________________________________________________________\n",
            "conv2d_1 (Conv2D)               (None, 128, 128, 256 9472        concatenate_1[0][0]              \n",
            "__________________________________________________________________________________________________\n",
            "leaky_re_lu_1 (LeakyReLU)       (None, 128, 128, 256 0           conv2d_1[0][0]                   \n",
            "__________________________________________________________________________________________________\n",
            "conv2d_2 (Conv2D)               (None, 64, 64, 512)  1180160     leaky_re_lu_1[0][0]              \n",
            "__________________________________________________________________________________________________\n",
            "leaky_re_lu_2 (LeakyReLU)       (None, 64, 64, 512)  0           conv2d_2[0][0]                   \n",
            "__________________________________________________________________________________________________\n",
            "flatten_1 (Flatten)             (None, 2097152)      0           leaky_re_lu_2[0][0]              \n",
            "__________________________________________________________________________________________________\n",
            "dropout_1 (Dropout)             (None, 2097152)      0           flatten_1[0][0]                  \n",
            "__________________________________________________________________________________________________\n",
            "dense_2 (Dense)                 (None, 1)            2097153     dropout_1[0][0]                  \n",
            "==================================================================================================\n",
            "Total params: 5,646,221\n",
            "Trainable params: 5,646,221\n",
            "Non-trainable params: 0\n",
            "__________________________________________________________________________________________________\n",
            "Model: \"model_2\"\n",
            "__________________________________________________________________________________________________\n",
            "Layer (type)                    Output Shape         Param #     Connected to                     \n",
            "==================================================================================================\n",
            "input_4 (InputLayer)            (None, 16)           0                                            \n",
            "__________________________________________________________________________________________________\n",
            "input_3 (InputLayer)            (None, 1)            0                                            \n",
            "__________________________________________________________________________________________________\n",
            "dense_4 (Dense)                 (None, 524288)       8912896     input_4[0][0]                    \n",
            "__________________________________________________________________________________________________\n",
            "embedding_2 (Embedding)         (None, 1, 35)        140         input_3[0][0]                    \n",
            "__________________________________________________________________________________________________\n",
            "leaky_re_lu_3 (LeakyReLU)       (None, 524288)       0           dense_4[0][0]                    \n",
            "__________________________________________________________________________________________________\n",
            "dense_3 (Dense)                 (None, 1, 4096)      147456      embedding_2[0][0]                \n",
            "__________________________________________________________________________________________________\n",
            "reshape_3 (Reshape)             (None, 64, 64, 128)  0           leaky_re_lu_3[0][0]              \n",
            "__________________________________________________________________________________________________\n",
            "reshape_2 (Reshape)             (None, 64, 64, 1)    0           dense_3[0][0]                    \n",
            "__________________________________________________________________________________________________\n",
            "concatenate_2 (Concatenate)     (None, 64, 64, 129)  0           reshape_3[0][0]                  \n",
            "                                                                 reshape_2[0][0]                  \n",
            "__________________________________________________________________________________________________\n",
            "conv2d_3 (Conv2D)               (None, 64, 64, 512)  594944      concatenate_2[0][0]              \n",
            "__________________________________________________________________________________________________\n",
            "leaky_re_lu_4 (LeakyReLU)       (None, 64, 64, 512)  0           conv2d_3[0][0]                   \n",
            "__________________________________________________________________________________________________\n",
            "up_sampling2d_1 (UpSampling2D)  (None, 128, 128, 512 0           leaky_re_lu_4[0][0]              \n",
            "__________________________________________________________________________________________________\n",
            "conv2d_4 (Conv2D)               (None, 128, 128, 256 1179904     up_sampling2d_1[0][0]            \n",
            "__________________________________________________________________________________________________\n",
            "leaky_re_lu_5 (LeakyReLU)       (None, 128, 128, 256 0           conv2d_4[0][0]                   \n",
            "__________________________________________________________________________________________________\n",
            "up_sampling2d_2 (UpSampling2D)  (None, 256, 256, 256 0           leaky_re_lu_5[0][0]              \n",
            "__________________________________________________________________________________________________\n",
            "conv2d_5 (Conv2D)               (None, 256, 256, 3)  37635       up_sampling2d_2[0][0]            \n",
            "==================================================================================================\n",
            "Total params: 10,872,975\n",
            "Trainable params: 10,872,975\n",
            "Non-trainable params: 0\n",
            "__________________________________________________________________________________________________\n"
          ]
        }
      ],
      "execution_count": 9,
      "metadata": {
        "collapsed": true,
        "jupyter": {
          "source_hidden": false,
          "outputs_hidden": false
        },
        "nteract": {
          "transient": {
            "deleting": false
          }
        },
        "gather": {
          "logged": 1620482675908
        }
      }
    },
    {
      "cell_type": "code",
      "source": [
        "# train and save model\n",
        "train(g_model, d_model, gan_model, dataset, latent_dim)\n",
        "g_model.save(os.path.join(DATA_PATH, f'generator_{image_size}_100_new.h5'))"
      ],
      "outputs": [],
      "execution_count": null,
      "metadata": {
        "collapsed": true,
        "jupyter": {
          "source_hidden": false,
          "outputs_hidden": false
        },
        "nteract": {
          "transient": {
            "deleting": false
          }
        },
        "gather": {
          "logged": 1620402030386
        }
      }
    }
  ],
  "metadata": {
    "kernelspec": {
      "name": "python3-azureml",
      "language": "python",
      "display_name": "Python 3.6 - AzureML"
    },
    "language_info": {
      "name": "python",
      "version": "3.6.9",
      "mimetype": "text/x-python",
      "codemirror_mode": {
        "name": "ipython",
        "version": 3
      },
      "pygments_lexer": "ipython3",
      "nbconvert_exporter": "python",
      "file_extension": ".py"
    },
    "kernel_info": {
      "name": "python3-azureml"
    },
    "nteract": {
      "version": "nteract-front-end@1.0.0"
    },
    "microsoft": {
      "host": {
        "AzureML": {
          "notebookHasBeenCompleted": true
        }
      }
    }
  },
  "nbformat": 4,
  "nbformat_minor": 2
}